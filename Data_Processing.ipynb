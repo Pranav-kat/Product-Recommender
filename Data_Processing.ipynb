{
 "cells": [
  {
   "cell_type": "markdown",
   "metadata": {},
   "source": [
    "## Importing the neccessary libraries and modules"
   ]
  },
  {
   "cell_type": "code",
   "execution_count": 1,
   "metadata": {},
   "outputs": [],
   "source": [
    "import streamlit as st\n",
    "import pandas as pd\n",
    "import gzip\n",
    "import json\n",
    "import matplotlib.pyplot as plt"
   ]
  },
  {
   "cell_type": "markdown",
   "metadata": {},
   "source": [
    "## Dataset Directory Path"
   ]
  },
  {
   "cell_type": "code",
   "execution_count": 2,
   "metadata": {},
   "outputs": [],
   "source": [
    "file_path = \"Dataset\\meta_AMAZON_FASHION.json.gz\""
   ]
  },
  {
   "cell_type": "markdown",
   "metadata": {},
   "source": [
    "## Function to read the gzipped JSON file"
   ]
  },
  {
   "cell_type": "code",
   "execution_count": 3,
   "metadata": {},
   "outputs": [
    {
     "data": {
      "text/plain": [
       "[{'title': 'Slime Time Fall Fest [With CDROM and Collector Cards and Neutron Balls, Incredi-Ball and Glow Stick Necklace, Paper Fram',\n",
       "  'image': ['https://images-na.ssl-images-amazon.com/images/I/51bSrINiWpL._US40_.jpg'],\n",
       "  'brand': 'Group Publishing (CO)',\n",
       "  'feature': ['Product Dimensions:\\n                    \\n8.7 x 3.6 x 11.4 inches',\n",
       "   'Shipping Weight:\\n                    \\n2.4 pounds'],\n",
       "  'rank': '13,052,976inClothing,Shoesamp;Jewelry(',\n",
       "  'date': '8.70 inches',\n",
       "  'asin': '0764443682'},\n",
       " {'title': \"XCC Qi promise new spider snake preparing men's accessories alloy fittings magnet buckle bracelet jewelry\",\n",
       "  'image': ['https://images-na.ssl-images-amazon.com/images/I/41BCH7-4vHL._US40_.jpg',\n",
       "   'https://images-na.ssl-images-amazon.com/images/I/41FpbB--SoL._US40_.jpg',\n",
       "   'https://images-na.ssl-images-amazon.com/images/I/51twQYJo0NL._US40_.jpg'],\n",
       "  'rank': '11,654,581inClothing,Shoesamp;Jewelry(',\n",
       "  'date': '5 star',\n",
       "  'asin': '1291691480'},\n",
       " {'description': ['For the professional or amateur magician.  Routines include: The Thought Transmitter (An accidental USAF experiment that became a hit at the Denver Playboy Club and continues through today!), Three Card Match (The trick that fooled Dai Vernon), Numbo-Jumbo (A stack of 85 cards containing random 2 and 4 digit numbers is apparently memorized), The Binary Box (Light the light  even rocket scientists could not figure it out!), Kryptonite! (Anyone can be a superhero and save the day!), Laundry Quandary (Where did the missing sock go?), Comedy Birthday Cake Production Routine (The funniest and most memorable part of any kids birthday party.), Dazzling Divination! (A pocket mentalism effect that is always ready to go. If you do safety magic, heres a strong effect that packs real small.) and Sweet Sixteen (A great commercial effect that really gets your customers message across.)\\n\\nIncluded in his latest book is a bonus chapter entitled, Putting a Little Magic in your Life and Business.  A book in itself!  Not just for magicians, but for anyone who wants to add a little magic to their life, and stand out amongst the crowd.  Learn ways to get known and not forgotten! By setting up your magical reputation, your business card wont be stuck in the middle of a pile  YOU can control it to the top!'],\n",
       "  'title': 'Magical Things I Really Do Do Too!',\n",
       "  'image': ['https://images-na.ssl-images-amazon.com/images/I/4196%2BTu5T%2BL._SR38,50_.jpg',\n",
       "   'https://images-na.ssl-images-amazon.com/images/I/31N2zBaedSL._SR38,50_.jpg'],\n",
       "  'brand': 'Christopher Manos',\n",
       "  'feature': ['Package Dimensions:\\n                    \\n8.5 x 5.5 x 0.4 inches',\n",
       "   'Shipping Weight:\\n                    \\n6.1 ounces'],\n",
       "  'rank': '19,308,073inClothing,ShoesJewelry(',\n",
       "  'date': '5 star',\n",
       "  'asin': '1940280001'},\n",
       " {'title': 'Ashes to Ashes, Oranges to Oranges',\n",
       "  'image': ['https://images-na.ssl-images-amazon.com/images/I/41VHFlSGjoL._SR38,50_.jpg'],\n",
       "  'brand': 'Flickerlamp Publishing',\n",
       "  'feature': ['Package Dimensions:\\n                    \\n8.3 x 5.5 x 0.3 inches',\n",
       "   'Shipping Weight:\\n                    \\n5.6 ounces'],\n",
       "  'rank': '19,734,184inClothing,ShoesJewelry(',\n",
       "  'date': '5 star',\n",
       "  'asin': '1940735033'},\n",
       " {'title': 'Aether & Empire #1 - 2016 First Printing Comic Book Special Edition - Rare! - Blue Juice Comics',\n",
       "  'image': ['https://images-na.ssl-images-amazon.com/images/I/418HGjTDbRL._SR38,50_.jpg'],\n",
       "  'feature': ['Package Dimensions:\\n                    \\n10.5 x 6.5 x 0.2 inches',\n",
       "   'Shipping Weight:\\n                    \\n6.4 ounces (View shipping rates and policies)'],\n",
       "  'rank': '10,558,646inClothing,Shoesamp;Jewelry(',\n",
       "  'date': '5 star',\n",
       "  'price': '$4.50',\n",
       "  'asin': '1940967805'}]"
      ]
     },
     "execution_count": 3,
     "metadata": {},
     "output_type": "execute_result"
    }
   ],
   "source": [
    "def read_gzipped_json(file_path, num_records=5):\n",
    "    records = []\n",
    "    with gzip.open(file_path, 'r') as file:\n",
    "        for i, line in enumerate(file):\n",
    "            if i >= num_records:\n",
    "                break\n",
    "            record = json.loads(line)\n",
    "            records.append(record)\n",
    "    return records\n",
    "\n",
    "# Reading the first few records\n",
    "sample_records = read_gzipped_json(file_path)\n",
    "sample_records"
   ]
  },
  {
   "cell_type": "markdown",
   "metadata": {},
   "source": [
    "## Function to load the entire dataset and preprocess it"
   ]
  },
  {
   "cell_type": "code",
   "execution_count": 4,
   "metadata": {},
   "outputs": [],
   "source": [
    "def load_and_preprocess_data(file_path):\n",
    "    records = []\n",
    "    with gzip.open(file_path, 'r') as file:\n",
    "        for line in file:\n",
    "            record = json.loads(line)\n",
    "            title = record.get('title', '')\n",
    "            brand = record.get('brand', '')\n",
    "            price = record.get('price', None)\n",
    "            asin = record.get('asin', '')\n",
    "            records.append((title, brand, price, asin))\n",
    "\n",
    "    # Creating a DataFrame from the extracted records\n",
    "    df = pd.DataFrame(records, columns=['Title', 'Brand', 'Price', 'ASIN'])\n",
    "\n",
    "    # Handling missing values\n",
    "    df['Price'] = pd.to_numeric(df['Price'].str.replace('$', ''), errors='coerce')\n",
    "    df['Brand'] = df['Brand'].fillna('Unknown')\n",
    "    \n",
    "    return df\n",
    "\n",
    "# Loading and preprocessing the data\n",
    "product_database = load_and_preprocess_data(file_path)\n",
    "\n",
    "# Displaying the first few rows of the product database\n",
    "product_database.head()\n"
   ]
  },
  {
   "cell_type": "markdown",
   "metadata": {},
   "source": [
    "## Function to collect shopper preferences"
   ]
  },
  {
   "cell_type": "code",
   "execution_count": null,
   "metadata": {},
   "outputs": [],
   "source": [
    "def get_shopper_preferences(df):\n",
    "    # Getting the top 10 most common brands\n",
    "    top_brands = df['Brand'].value_counts().nlargest(10).index.tolist()\n",
    "    top_brands.append('Any')\n",
    "\n",
    "    print(\"Select a brand preference:\")\n",
    "    for i, brand in enumerate(top_brands):\n",
    "        print(f\"{i + 1}. {brand}\")\n",
    "\n",
    "    brand_choice = int(input(\"Enter the number corresponding to your brand preference (or 0 for no preference): \")) - 1\n",
    "    selected_brand = top_brands[brand_choice] if brand_choice >= 0 else None\n",
    "\n",
    "    min_price = input(\"Enter the minimum price (or 'Any' for no preference): \")\n",
    "    max_price = input(\"Enter the maximum price (or 'Any' for no preference): \")\n",
    "\n",
    "    min_price = float(min_price) if min_price.lower() != 'any' else None\n",
    "    max_price = float(max_price) if max_price.lower() != 'any' else None\n",
    "\n",
    "    preferences = {\n",
    "        'Brand': selected_brand,\n",
    "        'Min_Price': min_price,\n",
    "        'Max_Price': max_price\n",
    "    }\n",
    "    \n",
    "    return preferences\n",
    "\n",
    "# NOTE: The following code will ask for user input. Uncomment and run it in a local environment to test the interface.\n",
    "# shopper_preferences = get_shopper_preferences(product_database)\n",
    "# shopper_preferences\n"
   ]
  },
  {
   "cell_type": "markdown",
   "metadata": {},
   "source": [
    "## Function to recommend products based on shopper preferences"
   ]
  },
  {
   "cell_type": "code",
   "execution_count": null,
   "metadata": {},
   "outputs": [
    {
     "data": {
      "text/html": [
       "<div>\n",
       "<style scoped>\n",
       "    .dataframe tbody tr th:only-of-type {\n",
       "        vertical-align: middle;\n",
       "    }\n",
       "\n",
       "    .dataframe tbody tr th {\n",
       "        vertical-align: top;\n",
       "    }\n",
       "\n",
       "    .dataframe thead th {\n",
       "        text-align: right;\n",
       "    }\n",
       "</style>\n",
       "<table border=\"1\" class=\"dataframe\">\n",
       "  <thead>\n",
       "    <tr style=\"text-align: right;\">\n",
       "      <th></th>\n",
       "      <th>Title</th>\n",
       "      <th>Brand</th>\n",
       "      <th>Price</th>\n",
       "      <th>ASIN</th>\n",
       "    </tr>\n",
       "  </thead>\n",
       "  <tbody>\n",
       "    <tr>\n",
       "      <th>17</th>\n",
       "      <td>X. L. Carbon Fiber Money Clip, made in the USA</td>\n",
       "      <td>Roar Carbon</td>\n",
       "      <td>14.99</td>\n",
       "      <td>9654263246</td>\n",
       "    </tr>\n",
       "    <tr>\n",
       "      <th>69</th>\n",
       "      <td>Buxton Heiress Pik-Me-Up Framed Case</td>\n",
       "      <td>Buxton</td>\n",
       "      <td>16.95</td>\n",
       "      <td>B00007GDFV</td>\n",
       "    </tr>\n",
       "    <tr>\n",
       "      <th>118</th>\n",
       "      <td>Moria Orc Costume TM Mask from Lord of the Rings</td>\n",
       "      <td></td>\n",
       "      <td>45.46</td>\n",
       "      <td>B0000AOE9U</td>\n",
       "    </tr>\n",
       "    <tr>\n",
       "      <th>272</th>\n",
       "      <td>Patriots Reebok Men's NFL Super Bowl XXXVIII L...</td>\n",
       "      <td></td>\n",
       "      <td>39.99</td>\n",
       "      <td>B0001B97J8</td>\n",
       "    </tr>\n",
       "    <tr>\n",
       "      <th>331</th>\n",
       "      <td>Art Nouveau Sterling Silver Ornate Repousse He...</td>\n",
       "      <td>Silver Insanity</td>\n",
       "      <td>44.66</td>\n",
       "      <td>B00023JX9Y</td>\n",
       "    </tr>\n",
       "  </tbody>\n",
       "</table>\n",
       "</div>"
      ],
      "text/plain": [
       "                                                 Title            Brand  \\\n",
       "17      X. L. Carbon Fiber Money Clip, made in the USA      Roar Carbon   \n",
       "69                Buxton Heiress Pik-Me-Up Framed Case           Buxton   \n",
       "118   Moria Orc Costume TM Mask from Lord of the Rings                    \n",
       "272  Patriots Reebok Men's NFL Super Bowl XXXVIII L...                    \n",
       "331  Art Nouveau Sterling Silver Ornate Repousse He...  Silver Insanity   \n",
       "\n",
       "     Price        ASIN  \n",
       "17   14.99  9654263246  \n",
       "69   16.95  B00007GDFV  \n",
       "118  45.46  B0000AOE9U  \n",
       "272  39.99  B0001B97J8  \n",
       "331  44.66  B00023JX9Y  "
      ]
     },
     "execution_count": 6,
     "metadata": {},
     "output_type": "execute_result"
    }
   ],
   "source": [
    "def recommend_products(df, preferences):\n",
    "    # Filter by brand if specified\n",
    "    if preferences['Brand'] and preferences['Brand'] != 'Any':\n",
    "        df = df[df['Brand'] == preferences['Brand']]\n",
    "    \n",
    "    # Filter by minimum price if specified\n",
    "    if preferences['Min_Price']:\n",
    "        df = df[df['Price'] >= preferences['Min_Price']]\n",
    "    \n",
    "    # Filter by maximum price if specified\n",
    "    if preferences['Max_Price']:\n",
    "        df = df[df['Price'] <= preferences['Max_Price']]\n",
    "    \n",
    "    return df\n",
    "\n",
    "# Example preferences for testing\n",
    "example_preferences = {\n",
    "    'Brand': 'Any',\n",
    "    'Min_Price': 10,\n",
    "    'Max_Price': 50\n",
    "}\n",
    "\n",
    "# Getting recommendations based on the example preferences\n",
    "recommended_products_example = recommend_products(product_database, example_preferences)\n",
    "\n",
    "# Displaying the first few recommended products\n",
    "recommended_products_example.head()\n"
   ]
  }
 ],
 "metadata": {
  "kernelspec": {
   "display_name": "myenv",
   "language": "python",
   "name": "python3"
  },
  "language_info": {
   "codemirror_mode": {
    "name": "ipython",
    "version": 3
   },
   "file_extension": ".py",
   "mimetype": "text/x-python",
   "name": "python",
   "nbconvert_exporter": "python",
   "pygments_lexer": "ipython3",
   "version": "3.11.4"
  },
  "orig_nbformat": 4
 },
 "nbformat": 4,
 "nbformat_minor": 2
}
